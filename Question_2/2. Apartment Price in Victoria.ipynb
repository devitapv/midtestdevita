{
 "cells": [
  {
   "cell_type": "markdown",
   "metadata": {},
   "source": [
    "## Victoria Case"
   ]
  },
  {
   "cell_type": "markdown",
   "metadata": {},
   "source": [
    "**Deskripsi Dataset :** <br>\n",
    "Dataset yang digunakan merupakan data deskripsi dari lingkungan serta wilayah konservasi apartemen yang ada di Victoria. <br>\n",
    "Dataset yang digunakan terdiri atas 218 pengamatan dengan 16 feature diantaranya : <br>\n",
    "\n",
    "- Total price\n",
    "- Area\n",
    "- Zone\n",
    "- Category\n",
    "- Age\n",
    "- Floor\n",
    "- Rooms\n",
    "- Out\n",
    "- Conservation\n",
    "- Toilets\n",
    "- Garage\n",
    "- Elevator\n",
    "- Street Category\n",
    "- Heating\n",
    "- Tras\n",
    "\n",
    "**Deskripsi Project :** <br>\n",
    "Pada case ini akan ditentukan model terbaik dengan menggunakan regresi untuk membantu broker dalam memprediksi harga apartemen di Victoria berdasarkan lingkungan sekitarnya serta status konservasi. Model terbaik akan digunakan untuk memprediksi dan menjelaskan kembali konservasi yang baru kedalam 3 level yakni : <br>\n",
    "\n",
    "- Level A : 1A\n",
    "- Level B : 2A\n",
    "- Level C : 2B dan 3A"
   ]
  },
  {
   "cell_type": "markdown",
   "metadata": {},
   "source": [
    "## 1. Import Dataset"
   ]
  },
  {
   "cell_type": "markdown",
   "metadata": {},
   "source": [
    "**Import Library dan Load Dataset**"
   ]
  },
  {
   "cell_type": "code",
   "execution_count": 1,
   "metadata": {},
   "outputs": [],
   "source": [
    "import pandas as pd\n",
    "import numpy as np\n",
    "import matplotlib.pyplot as plt\n",
    "import seaborn as sns\n",
    "from sklearn.linear_model import LinearRegression\n",
    "from sklearn.model_selection import train_test_split\n",
    "from sklearn.metrics import mean_absolute_error\n",
    "from sklearn.metrics import mean_squared_error\n",
    "import warnings\n",
    "warnings.filterwarnings('ignore')"
   ]
  },
  {
   "cell_type": "code",
   "execution_count": 2,
   "metadata": {
    "scrolled": true
   },
   "outputs": [
    {
     "data": {
      "text/html": [
       "<div>\n",
       "<style scoped>\n",
       "    .dataframe tbody tr th:only-of-type {\n",
       "        vertical-align: middle;\n",
       "    }\n",
       "\n",
       "    .dataframe tbody tr th {\n",
       "        vertical-align: top;\n",
       "    }\n",
       "\n",
       "    .dataframe thead th {\n",
       "        text-align: right;\n",
       "    }\n",
       "</style>\n",
       "<table border=\"1\" class=\"dataframe\">\n",
       "  <thead>\n",
       "    <tr style=\"text-align: right;\">\n",
       "      <th></th>\n",
       "      <th>row.labels</th>\n",
       "      <th>totalprice</th>\n",
       "      <th>area</th>\n",
       "      <th>zone</th>\n",
       "      <th>category</th>\n",
       "      <th>age</th>\n",
       "      <th>floor</th>\n",
       "      <th>rooms</th>\n",
       "      <th>out</th>\n",
       "      <th>conservation</th>\n",
       "      <th>toilets</th>\n",
       "      <th>garage</th>\n",
       "      <th>elevator</th>\n",
       "      <th>streetcategory</th>\n",
       "      <th>heating</th>\n",
       "      <th>tras</th>\n",
       "    </tr>\n",
       "  </thead>\n",
       "  <tbody>\n",
       "    <tr>\n",
       "      <th>0</th>\n",
       "      <td>1</td>\n",
       "      <td>228000</td>\n",
       "      <td>7530999756</td>\n",
       "      <td>Z45</td>\n",
       "      <td>4B</td>\n",
       "      <td>33</td>\n",
       "      <td>3</td>\n",
       "      <td>5</td>\n",
       "      <td>E100</td>\n",
       "      <td>2B</td>\n",
       "      <td>1</td>\n",
       "      <td>0</td>\n",
       "      <td>1</td>\n",
       "      <td>S3</td>\n",
       "      <td>3A</td>\n",
       "      <td>0</td>\n",
       "    </tr>\n",
       "    <tr>\n",
       "      <th>1</th>\n",
       "      <td>2</td>\n",
       "      <td>409000</td>\n",
       "      <td>1006500015</td>\n",
       "      <td>Z31</td>\n",
       "      <td>3B</td>\n",
       "      <td>5</td>\n",
       "      <td>7</td>\n",
       "      <td>5</td>\n",
       "      <td>E50</td>\n",
       "      <td>1A</td>\n",
       "      <td>2</td>\n",
       "      <td>1</td>\n",
       "      <td>1</td>\n",
       "      <td>S5</td>\n",
       "      <td>4A</td>\n",
       "      <td>1</td>\n",
       "    </tr>\n",
       "    <tr>\n",
       "      <th>2</th>\n",
       "      <td>3</td>\n",
       "      <td>200000</td>\n",
       "      <td>8887000275</td>\n",
       "      <td>Z52</td>\n",
       "      <td>3A</td>\n",
       "      <td>14</td>\n",
       "      <td>8</td>\n",
       "      <td>5</td>\n",
       "      <td>E50</td>\n",
       "      <td>1A</td>\n",
       "      <td>2</td>\n",
       "      <td>0</td>\n",
       "      <td>1</td>\n",
       "      <td>S2</td>\n",
       "      <td>3A</td>\n",
       "      <td>0</td>\n",
       "    </tr>\n",
       "    <tr>\n",
       "      <th>3</th>\n",
       "      <td>4</td>\n",
       "      <td>180000</td>\n",
       "      <td>6261000061</td>\n",
       "      <td>Z62</td>\n",
       "      <td>4A</td>\n",
       "      <td>41</td>\n",
       "      <td>3</td>\n",
       "      <td>4</td>\n",
       "      <td>E50</td>\n",
       "      <td>2A</td>\n",
       "      <td>1</td>\n",
       "      <td>0</td>\n",
       "      <td>0</td>\n",
       "      <td>S3</td>\n",
       "      <td>1A</td>\n",
       "      <td>0</td>\n",
       "    </tr>\n",
       "    <tr>\n",
       "      <th>4</th>\n",
       "      <td>5</td>\n",
       "      <td>443600</td>\n",
       "      <td>1461499939</td>\n",
       "      <td>Z31</td>\n",
       "      <td>3A</td>\n",
       "      <td>22</td>\n",
       "      <td>6</td>\n",
       "      <td>7</td>\n",
       "      <td>E100</td>\n",
       "      <td>1A</td>\n",
       "      <td>2</td>\n",
       "      <td>0</td>\n",
       "      <td>1</td>\n",
       "      <td>S4</td>\n",
       "      <td>4A</td>\n",
       "      <td>1</td>\n",
       "    </tr>\n",
       "  </tbody>\n",
       "</table>\n",
       "</div>"
      ],
      "text/plain": [
       "   row.labels totalprice        area zone category  age  floor  rooms   out  \\\n",
       "0           1     228000  7530999756  Z45       4B   33      3      5  E100   \n",
       "1           2     409000  1006500015  Z31       3B    5      7      5   E50   \n",
       "2           3     200000  8887000275  Z52       3A   14      8      5   E50   \n",
       "3           4     180000  6261000061  Z62       4A   41      3      4   E50   \n",
       "4           5     443600  1461499939  Z31       3A   22      6      7  E100   \n",
       "\n",
       "  conservation  toilets  garage  elevator streetcategory heating  tras  \n",
       "0           2B        1       0         1             S3      3A     0  \n",
       "1           1A        2       1         1             S5      4A     1  \n",
       "2           1A        2       0         1             S2      3A     0  \n",
       "3           2A        1       0         0             S3      1A     0  \n",
       "4           1A        2       0         1             S4      4A     1  "
      ]
     },
     "execution_count": 2,
     "metadata": {},
     "output_type": "execute_result"
    }
   ],
   "source": [
    "victoria=pd.read_csv('victoria.csv')\n",
    "victoria.head()"
   ]
  },
  {
   "cell_type": "code",
   "execution_count": 3,
   "metadata": {
    "scrolled": true
   },
   "outputs": [
    {
     "name": "stdout",
     "output_type": "stream",
     "text": [
      "<class 'pandas.core.frame.DataFrame'>\n",
      "RangeIndex: 218 entries, 0 to 217\n",
      "Data columns (total 16 columns):\n",
      "row.labels        218 non-null int64\n",
      "totalprice        218 non-null object\n",
      "area              218 non-null object\n",
      "zone              218 non-null object\n",
      "category          218 non-null object\n",
      "age               218 non-null int64\n",
      "floor             218 non-null int64\n",
      "rooms             218 non-null int64\n",
      "out               218 non-null object\n",
      "conservation      218 non-null object\n",
      "toilets           218 non-null int64\n",
      "garage            218 non-null int64\n",
      "elevator          218 non-null int64\n",
      "streetcategory    218 non-null object\n",
      "heating           218 non-null object\n",
      "tras              218 non-null int64\n",
      "dtypes: int64(8), object(8)\n",
      "memory usage: 27.3+ KB\n"
     ]
    }
   ],
   "source": [
    "victoria.info()"
   ]
  },
  {
   "cell_type": "markdown",
   "metadata": {},
   "source": [
    "**Data Preparation**"
   ]
  },
  {
   "cell_type": "markdown",
   "metadata": {},
   "source": [
    "Dikehui untuk variabel total price dan area memiliki tipe data object. Selain itu, pada dua variabel tersebut masih dijumpai ',' untuk memisahkan nominal dari masing-masing angka dimana seharusnya pemisah yang digunakan adalah '.' sehingga harus diganti agar dapat dilakukan analisis lebih lanjut."
   ]
  },
  {
   "cell_type": "code",
   "execution_count": 4,
   "metadata": {
    "scrolled": true
   },
   "outputs": [
    {
     "name": "stdout",
     "output_type": "stream",
     "text": [
      "<class 'pandas.core.frame.DataFrame'>\n",
      "RangeIndex: 218 entries, 0 to 217\n",
      "Data columns (total 16 columns):\n",
      "row.labels        218 non-null int64\n",
      "totalprice        218 non-null object\n",
      "area              218 non-null object\n",
      "zone              218 non-null object\n",
      "category          218 non-null object\n",
      "age               218 non-null int64\n",
      "floor             218 non-null int64\n",
      "rooms             218 non-null int64\n",
      "out               218 non-null object\n",
      "conservation      218 non-null object\n",
      "toilets           218 non-null int64\n",
      "garage            218 non-null int64\n",
      "elevator          218 non-null int64\n",
      "streetcategory    218 non-null object\n",
      "heating           218 non-null object\n",
      "tras              218 non-null int64\n",
      "dtypes: int64(8), object(8)\n",
      "memory usage: 27.3+ KB\n"
     ]
    }
   ],
   "source": [
    "victoria['totalprice'] = victoria['totalprice'].replace(r'[,]','', regex=True)\n",
    "victoria['area'] = victoria['area'].replace(r'[,]','', regex=True)\n",
    "victoria.info()"
   ]
  },
  {
   "cell_type": "markdown",
   "metadata": {},
   "source": [
    "Setelah melakukan replace dari ',' menjadi '.' dilakukan pengecekan tipe data untuk keduanya. Selelah itu, agar dapat dilakukan analisis pada variabel total price dan area maka tipe data akan diubah kedalam numerik. "
   ]
  },
  {
   "cell_type": "code",
   "execution_count": 5,
   "metadata": {},
   "outputs": [
    {
     "name": "stdout",
     "output_type": "stream",
     "text": [
      "<class 'pandas.core.frame.DataFrame'>\n",
      "RangeIndex: 218 entries, 0 to 217\n",
      "Data columns (total 16 columns):\n",
      "row.labels        218 non-null int64\n",
      "totalprice        218 non-null int64\n",
      "area              218 non-null int64\n",
      "zone              218 non-null object\n",
      "category          218 non-null object\n",
      "age               218 non-null int64\n",
      "floor             218 non-null int64\n",
      "rooms             218 non-null int64\n",
      "out               218 non-null object\n",
      "conservation      218 non-null object\n",
      "toilets           218 non-null int64\n",
      "garage            218 non-null int64\n",
      "elevator          218 non-null int64\n",
      "streetcategory    218 non-null object\n",
      "heating           218 non-null object\n",
      "tras              218 non-null int64\n",
      "dtypes: int64(10), object(6)\n",
      "memory usage: 27.3+ KB\n"
     ]
    }
   ],
   "source": [
    "victoria['totalprice'] = pd.to_numeric(victoria['totalprice'])\n",
    "victoria['area'] = pd.to_numeric(victoria['area'])\n",
    "victoria.info()"
   ]
  },
  {
   "cell_type": "markdown",
   "metadata": {},
   "source": [
    "Dikarenakan dua variabel tersebut memiliki tipe data integer maka dapat dilakukan analisis lebih lanjut menggunakan kedua variabel tersebut."
   ]
  },
  {
   "cell_type": "markdown",
   "metadata": {},
   "source": [
    "## 2. Exploratory Data Analysis"
   ]
  },
  {
   "cell_type": "markdown",
   "metadata": {},
   "source": [
    "Untuk mengetahui karakteristik dari dataset Apartement Price in Victoria dapat menggunakan statistika deskriptif. Selain itu, akan dilakukan visualisasi dengan menggunakan beberapa grafik untuk mengetahui secara visual."
   ]
  },
  {
   "cell_type": "markdown",
   "metadata": {},
   "source": [
    "### **Statistika Deskriptif**"
   ]
  },
  {
   "cell_type": "code",
   "execution_count": 6,
   "metadata": {},
   "outputs": [],
   "source": [
    "victoria=victoria.drop(['row.labels'],axis=1)"
   ]
  },
  {
   "cell_type": "code",
   "execution_count": 8,
   "metadata": {},
   "outputs": [
    {
     "data": {
      "text/html": [
       "<div>\n",
       "<style scoped>\n",
       "    .dataframe tbody tr th:only-of-type {\n",
       "        vertical-align: middle;\n",
       "    }\n",
       "\n",
       "    .dataframe tbody tr th {\n",
       "        vertical-align: top;\n",
       "    }\n",
       "\n",
       "    .dataframe thead th {\n",
       "        text-align: right;\n",
       "    }\n",
       "</style>\n",
       "<table border=\"1\" class=\"dataframe\">\n",
       "  <thead>\n",
       "    <tr style=\"text-align: right;\">\n",
       "      <th></th>\n",
       "      <th>totalprice</th>\n",
       "      <th>area</th>\n",
       "      <th>age</th>\n",
       "      <th>floor</th>\n",
       "      <th>rooms</th>\n",
       "      <th>toilets</th>\n",
       "      <th>garage</th>\n",
       "      <th>elevator</th>\n",
       "      <th>tras</th>\n",
       "    </tr>\n",
       "  </thead>\n",
       "  <tbody>\n",
       "    <tr>\n",
       "      <th>count</th>\n",
       "      <td>218.000</td>\n",
       "      <td>2.180000e+02</td>\n",
       "      <td>218.000</td>\n",
       "      <td>218.000</td>\n",
       "      <td>218.000</td>\n",
       "      <td>218.000</td>\n",
       "      <td>218.000</td>\n",
       "      <td>218.000</td>\n",
       "      <td>218.000</td>\n",
       "    </tr>\n",
       "    <tr>\n",
       "      <th>mean</th>\n",
       "      <td>288543.541</td>\n",
       "      <td>5.718657e+09</td>\n",
       "      <td>19.899</td>\n",
       "      <td>4.440</td>\n",
       "      <td>4.853</td>\n",
       "      <td>1.468</td>\n",
       "      <td>0.243</td>\n",
       "      <td>0.798</td>\n",
       "      <td>0.807</td>\n",
       "    </tr>\n",
       "    <tr>\n",
       "      <th>std</th>\n",
       "      <td>128972.262</td>\n",
       "      <td>3.455007e+09</td>\n",
       "      <td>14.596</td>\n",
       "      <td>2.127</td>\n",
       "      <td>0.634</td>\n",
       "      <td>0.500</td>\n",
       "      <td>0.451</td>\n",
       "      <td>0.402</td>\n",
       "      <td>0.407</td>\n",
       "    </tr>\n",
       "    <tr>\n",
       "      <th>min</th>\n",
       "      <td>155000.000</td>\n",
       "      <td>5.300000e+01</td>\n",
       "      <td>1.000</td>\n",
       "      <td>1.000</td>\n",
       "      <td>3.000</td>\n",
       "      <td>1.000</td>\n",
       "      <td>0.000</td>\n",
       "      <td>0.000</td>\n",
       "      <td>0.000</td>\n",
       "    </tr>\n",
       "    <tr>\n",
       "      <th>25%</th>\n",
       "      <td>230000.000</td>\n",
       "      <td>1.187250e+09</td>\n",
       "      <td>11.000</td>\n",
       "      <td>3.000</td>\n",
       "      <td>5.000</td>\n",
       "      <td>1.000</td>\n",
       "      <td>0.000</td>\n",
       "      <td>1.000</td>\n",
       "      <td>1.000</td>\n",
       "    </tr>\n",
       "    <tr>\n",
       "      <th>50%</th>\n",
       "      <td>270000.000</td>\n",
       "      <td>7.118500e+09</td>\n",
       "      <td>16.000</td>\n",
       "      <td>4.000</td>\n",
       "      <td>5.000</td>\n",
       "      <td>1.000</td>\n",
       "      <td>0.000</td>\n",
       "      <td>1.000</td>\n",
       "      <td>1.000</td>\n",
       "    </tr>\n",
       "    <tr>\n",
       "      <th>75%</th>\n",
       "      <td>329750.000</td>\n",
       "      <td>8.542750e+09</td>\n",
       "      <td>24.000</td>\n",
       "      <td>5.000</td>\n",
       "      <td>5.000</td>\n",
       "      <td>2.000</td>\n",
       "      <td>0.000</td>\n",
       "      <td>1.000</td>\n",
       "      <td>1.000</td>\n",
       "    </tr>\n",
       "    <tr>\n",
       "      <th>max</th>\n",
       "      <td>1889822.000</td>\n",
       "      <td>9.992000e+09</td>\n",
       "      <td>118.000</td>\n",
       "      <td>12.000</td>\n",
       "      <td>7.000</td>\n",
       "      <td>2.000</td>\n",
       "      <td>2.000</td>\n",
       "      <td>1.000</td>\n",
       "      <td>2.000</td>\n",
       "    </tr>\n",
       "  </tbody>\n",
       "</table>\n",
       "</div>"
      ],
      "text/plain": [
       "        totalprice          area      age    floor    rooms  toilets   garage  \\\n",
       "count      218.000  2.180000e+02  218.000  218.000  218.000  218.000  218.000   \n",
       "mean    288543.541  5.718657e+09   19.899    4.440    4.853    1.468    0.243   \n",
       "std     128972.262  3.455007e+09   14.596    2.127    0.634    0.500    0.451   \n",
       "min     155000.000  5.300000e+01    1.000    1.000    3.000    1.000    0.000   \n",
       "25%     230000.000  1.187250e+09   11.000    3.000    5.000    1.000    0.000   \n",
       "50%     270000.000  7.118500e+09   16.000    4.000    5.000    1.000    0.000   \n",
       "75%     329750.000  8.542750e+09   24.000    5.000    5.000    2.000    0.000   \n",
       "max    1889822.000  9.992000e+09  118.000   12.000    7.000    2.000    2.000   \n",
       "\n",
       "       elevator     tras  \n",
       "count   218.000  218.000  \n",
       "mean      0.798    0.807  \n",
       "std       0.402    0.407  \n",
       "min       0.000    0.000  \n",
       "25%       1.000    1.000  \n",
       "50%       1.000    1.000  \n",
       "75%       1.000    1.000  \n",
       "max       1.000    2.000  "
      ]
     },
     "execution_count": 8,
     "metadata": {},
     "output_type": "execute_result"
    }
   ],
   "source": [
    "victoria.describe().round(3)"
   ]
  },
  {
   "cell_type": "markdown",
   "metadata": {},
   "source": [
    "1. **Harga apartemen** paling tinggi di Victoria adalah 1.889.822 sedangkan harga paling rendah adalah 155.000 dengan rata-rata harga 288.543,541.\n",
    "2. Rata-rata **usia apartemen** di Victoria adalah 19,899 tahun. Bangunan apartemen paling tua adalah 118 tahun dan paling muda 1 tahun.\n",
    "3. Jumlah **lantai apartemen** paling tinggi sebanyak 12 lantai dan paling rendah 1 lantai dengan **jumlah ruangan** paling tinggi 7 dan paling rendah 3 ruangan pada masing-masing apartemen.\n",
    "4. Jumlah **kamar mandi** pada masing-masing apartement paling banyak 2 kamar mandi dan paling sedikit 1 kamar mandi.\n"
   ]
  },
  {
   "cell_type": "markdown",
   "metadata": {},
   "source": [
    "### **Visualisasi Data**"
   ]
  },
  {
   "cell_type": "code",
   "execution_count": 11,
   "metadata": {},
   "outputs": [
    {
     "data": {
      "image/png": "[encoded data removed]",
      "text/plain": [
       "<matplotlib.figure.Figure at 0x1b5b38bfb00>"
      ]
     },
     "metadata": {},
     "output_type": "display_data"
    }
   ],
   "source": [
    "bins = [20,40,60,80,100,120, np.inf]\n",
    "label = ['0-20','20-40', '40-60', '60-80','80-100','100-120']\n",
    "\n",
    "victoria['AGERANGE'] = pd.cut(victoria['age'], bins, labels=label)\n",
    "\n",
    "f = plt.figure(figsize=(21,5))\n",
    "f.add_subplot(1,2,1)\n",
    "sns.countplot(victoria['AGERANGE'])\n",
    "plt.show()"
   ]
  },
  {
   "cell_type": "markdown",
   "metadata": {},
   "source": [
    "Rata-rata usia apartemen di Victoria paling banyak berada pada range 0 hingga 20 tahun"
   ]
  },
  {
   "cell_type": "code",
   "execution_count": 12,
   "metadata": {},
   "outputs": [
    {
     "data": {
      "text/plain": [
       "<matplotlib.axes._subplots.AxesSubplot at 0x1b5b3acc438>"
      ]
     },
     "execution_count": 12,
     "metadata": {},
     "output_type": "execute_result"
    },
    {
     "data": {
      "image/png": "[encoded data removed]",
      "text/plain": [
       "<matplotlib.figure.Figure at 0x1b5b3ac0d68>"
      ]
     },
     "metadata": {},
     "output_type": "display_data"
    }
   ],
   "source": [
    "sns.distplot(victoria['totalprice'])"
   ]
  },
  {
   "cell_type": "markdown",
   "metadata": {},
   "source": [
    "Persebaran harga apartemen paling banyak berkisar dari range harga 200.000 hingga 300.000 dan terpusat di harga 250.000"
   ]
  },
  {
   "cell_type": "code",
   "execution_count": 15,
   "metadata": {
    "scrolled": false
   },
   "outputs": [
    {
     "data": {
      "text/plain": [
       "<matplotlib.axes._subplots.AxesSubplot at 0x1b5b3ffe320>"
      ]
     },
     "execution_count": 15,
     "metadata": {},
     "output_type": "execute_result"
    },
    {
     "data": {
      "image/png": "[encoded data removed]",
      "text/plain": [
       "<matplotlib.figure.Figure at 0x1b5b3b587b8>"
      ]
     },
     "metadata": {},
     "output_type": "display_data"
    }
   ],
   "source": [
    "sns.barplot(data=victoria, x=victoria['rooms'], y=victoria['totalprice'], color='navy')"
   ]
  },
  {
   "cell_type": "markdown",
   "metadata": {},
   "source": [
    "Dilihat dari barplot diketahui bahwa **jumlah ruangan banyak maka totalprice akan semakin tinggi.**"
   ]
  },
  {
   "cell_type": "code",
   "execution_count": 16,
   "metadata": {
    "scrolled": true
   },
   "outputs": [
    {
     "data": {
      "text/plain": [
       "<matplotlib.axes._subplots.AxesSubplot at 0x1b5b4008cc0>"
      ]
     },
     "execution_count": 16,
     "metadata": {},
     "output_type": "execute_result"
    },
    {
     "data": {
      "image/png": "[encoded data removed]",
      "text/plain": [
       "<matplotlib.figure.Figure at 0x1b5b403d240>"
      ]
     },
     "metadata": {},
     "output_type": "display_data"
    }
   ],
   "source": [
    "sns.barplot(data=victoria, x=victoria['toilets'], y=victoria['totalprice'], color='navy')"
   ]
  },
  {
   "cell_type": "markdown",
   "metadata": {},
   "source": [
    "Jumlah toilet banyak menyebabkan harga apartemen semakin meningkat."
   ]
  },
  {
   "cell_type": "code",
   "execution_count": 17,
   "metadata": {},
   "outputs": [
    {
     "data": {
      "text/plain": [
       "<matplotlib.axes._subplots.AxesSubplot at 0x1b5b40b7630>"
      ]
     },
     "execution_count": 17,
     "metadata": {},
     "output_type": "execute_result"
    },
    {
     "data": {
      "image/png": "[encoded data removed]",
      "text/plain": [
       "<matplotlib.figure.Figure at 0x1b5b3f7a4a8>"
      ]
     },
     "metadata": {},
     "output_type": "display_data"
    }
   ],
   "source": [
    "sns.barplot(data=victoria, x=victoria['garage'], y=victoria['totalprice'], color='navy')"
   ]
  },
  {
   "cell_type": "markdown",
   "metadata": {},
   "source": [
    "Semakin banyak jumlah garasi, harga apartemen semakin tinggi. "
   ]
  },
  {
   "cell_type": "markdown",
   "metadata": {},
   "source": [
    "Dari ketiga barplot dapat diketahui bahwa semakin meningkat jumlah **toilet, ruangan, dan garasi** maka harga apartemen akan semakin tinggi."
   ]
  },
  {
   "cell_type": "markdown",
   "metadata": {},
   "source": [
    "### Variabel Selection"
   ]
  },
  {
   "cell_type": "code",
   "execution_count": 13,
   "metadata": {},
   "outputs": [
    {
     "data": {
      "text/html": [
       "<div>\n",
       "<style scoped>\n",
       "    .dataframe tbody tr th:only-of-type {\n",
       "        vertical-align: middle;\n",
       "    }\n",
       "\n",
       "    .dataframe tbody tr th {\n",
       "        vertical-align: top;\n",
       "    }\n",
       "\n",
       "    .dataframe thead th {\n",
       "        text-align: right;\n",
       "    }\n",
       "</style>\n",
       "<table border=\"1\" class=\"dataframe\">\n",
       "  <thead>\n",
       "    <tr style=\"text-align: right;\">\n",
       "      <th></th>\n",
       "      <th>totalprice</th>\n",
       "      <th>area</th>\n",
       "      <th>age</th>\n",
       "      <th>floor</th>\n",
       "      <th>rooms</th>\n",
       "      <th>toilets</th>\n",
       "      <th>garage</th>\n",
       "      <th>elevator</th>\n",
       "      <th>tras</th>\n",
       "    </tr>\n",
       "  </thead>\n",
       "  <tbody>\n",
       "    <tr>\n",
       "      <th>totalprice</th>\n",
       "      <td>1.000000</td>\n",
       "      <td>-0.189643</td>\n",
       "      <td>-0.075187</td>\n",
       "      <td>0.003118</td>\n",
       "      <td>0.200678</td>\n",
       "      <td>0.312584</td>\n",
       "      <td>0.248644</td>\n",
       "      <td>0.153959</td>\n",
       "      <td>0.172438</td>\n",
       "    </tr>\n",
       "    <tr>\n",
       "      <th>area</th>\n",
       "      <td>-0.189643</td>\n",
       "      <td>1.000000</td>\n",
       "      <td>-0.140286</td>\n",
       "      <td>-0.017649</td>\n",
       "      <td>-0.275234</td>\n",
       "      <td>-0.275006</td>\n",
       "      <td>-0.177064</td>\n",
       "      <td>-0.000032</td>\n",
       "      <td>0.003843</td>\n",
       "    </tr>\n",
       "    <tr>\n",
       "      <th>age</th>\n",
       "      <td>-0.075187</td>\n",
       "      <td>-0.140286</td>\n",
       "      <td>1.000000</td>\n",
       "      <td>-0.081243</td>\n",
       "      <td>-0.082745</td>\n",
       "      <td>-0.280751</td>\n",
       "      <td>-0.214034</td>\n",
       "      <td>-0.409242</td>\n",
       "      <td>-0.266408</td>\n",
       "    </tr>\n",
       "    <tr>\n",
       "      <th>floor</th>\n",
       "      <td>0.003118</td>\n",
       "      <td>-0.017649</td>\n",
       "      <td>-0.081243</td>\n",
       "      <td>1.000000</td>\n",
       "      <td>0.130113</td>\n",
       "      <td>0.104329</td>\n",
       "      <td>-0.030462</td>\n",
       "      <td>0.201292</td>\n",
       "      <td>-0.119861</td>\n",
       "    </tr>\n",
       "    <tr>\n",
       "      <th>rooms</th>\n",
       "      <td>0.200678</td>\n",
       "      <td>-0.275234</td>\n",
       "      <td>-0.082745</td>\n",
       "      <td>0.130113</td>\n",
       "      <td>1.000000</td>\n",
       "      <td>0.420892</td>\n",
       "      <td>0.205930</td>\n",
       "      <td>0.352912</td>\n",
       "      <td>0.032771</td>\n",
       "    </tr>\n",
       "    <tr>\n",
       "      <th>toilets</th>\n",
       "      <td>0.312584</td>\n",
       "      <td>-0.275006</td>\n",
       "      <td>-0.280751</td>\n",
       "      <td>0.104329</td>\n",
       "      <td>0.420892</td>\n",
       "      <td>1.000000</td>\n",
       "      <td>0.453729</td>\n",
       "      <td>0.448640</td>\n",
       "      <td>0.218621</td>\n",
       "    </tr>\n",
       "    <tr>\n",
       "      <th>garage</th>\n",
       "      <td>0.248644</td>\n",
       "      <td>-0.177064</td>\n",
       "      <td>-0.214034</td>\n",
       "      <td>-0.030462</td>\n",
       "      <td>0.205930</td>\n",
       "      <td>0.453729</td>\n",
       "      <td>1.000000</td>\n",
       "      <td>0.271774</td>\n",
       "      <td>0.156053</td>\n",
       "    </tr>\n",
       "    <tr>\n",
       "      <th>elevator</th>\n",
       "      <td>0.153959</td>\n",
       "      <td>-0.000032</td>\n",
       "      <td>-0.409242</td>\n",
       "      <td>0.201292</td>\n",
       "      <td>0.352912</td>\n",
       "      <td>0.448640</td>\n",
       "      <td>0.271774</td>\n",
       "      <td>1.000000</td>\n",
       "      <td>0.211845</td>\n",
       "    </tr>\n",
       "    <tr>\n",
       "      <th>tras</th>\n",
       "      <td>0.172438</td>\n",
       "      <td>0.003843</td>\n",
       "      <td>-0.266408</td>\n",
       "      <td>-0.119861</td>\n",
       "      <td>0.032771</td>\n",
       "      <td>0.218621</td>\n",
       "      <td>0.156053</td>\n",
       "      <td>0.211845</td>\n",
       "      <td>1.000000</td>\n",
       "    </tr>\n",
       "  </tbody>\n",
       "</table>\n",
       "</div>"
      ],
      "text/plain": [
       "            totalprice      area       age     floor     rooms   toilets  \\\n",
       "totalprice    1.000000 -0.189643 -0.075187  0.003118  0.200678  0.312584   \n",
       "area         -0.189643  1.000000 -0.140286 -0.017649 -0.275234 -0.275006   \n",
       "age          -0.075187 -0.140286  1.000000 -0.081243 -0.082745 -0.280751   \n",
       "floor         0.003118 -0.017649 -0.081243  1.000000  0.130113  0.104329   \n",
       "rooms         0.200678 -0.275234 -0.082745  0.130113  1.000000  0.420892   \n",
       "toilets       0.312584 -0.275006 -0.280751  0.104329  0.420892  1.000000   \n",
       "garage        0.248644 -0.177064 -0.214034 -0.030462  0.205930  0.453729   \n",
       "elevator      0.153959 -0.000032 -0.409242  0.201292  0.352912  0.448640   \n",
       "tras          0.172438  0.003843 -0.266408 -0.119861  0.032771  0.218621   \n",
       "\n",
       "              garage  elevator      tras  \n",
       "totalprice  0.248644  0.153959  0.172438  \n",
       "area       -0.177064 -0.000032  0.003843  \n",
       "age        -0.214034 -0.409242 -0.266408  \n",
       "floor      -0.030462  0.201292 -0.119861  \n",
       "rooms       0.205930  0.352912  0.032771  \n",
       "toilets     0.453729  0.448640  0.218621  \n",
       "garage      1.000000  0.271774  0.156053  \n",
       "elevator    0.271774  1.000000  0.211845  \n",
       "tras        0.156053  0.211845  1.000000  "
      ]
     },
     "execution_count": 13,
     "metadata": {},
     "output_type": "execute_result"
    }
   ],
   "source": [
    "victoria.corr()"
   ]
  },
  {
   "cell_type": "markdown",
   "metadata": {},
   "source": [
    "Berdasarkan tabel korelasi, variabel yang memiliki nilai korelasi paling tinggi dengan total price adalah variabel toilet, garage, dan rooms sehingga pada pemodelan akan menggunakan ketiga variabel tersebut."
   ]
  },
  {
   "cell_type": "markdown",
   "metadata": {},
   "source": [
    "### Modelling"
   ]
  },
  {
   "cell_type": "markdown",
   "metadata": {},
   "source": [
    "Pemodelan yang digunakan adalah dengan mengggunakan regresi. Sebelumnya, akan dilakukan penghapusan variabel yang tidak digunakan untuk pemodelan.\n",
    "Setelah itu, menentukan variabel x dan variabel y agar dapat dilakukan pemodelan menggunakan regresi. <br>\n",
    "\n",
    "- **Variabel x** : toilets, garage, rooms, conservation\n",
    "- **Variabel y** : totalprice"
   ]
  },
  {
   "cell_type": "markdown",
   "metadata": {},
   "source": [
    "Mengubah format variabel konservasi :"
   ]
  },
  {
   "cell_type": "code",
   "execution_count": 28,
   "metadata": {},
   "outputs": [],
   "source": [
    "dicti = {\n",
    "    '2B':3,\n",
    "    '3A':3,\n",
    "    '2A':2,\n",
    "    '1A':1\n",
    "}\n",
    "victoria['conservation'] = victoria['conservation'].replace(dicti)"
   ]
  },
  {
   "cell_type": "code",
   "execution_count": 29,
   "metadata": {},
   "outputs": [
    {
     "data": {
      "text/html": [
       "<div>\n",
       "<style scoped>\n",
       "    .dataframe tbody tr th:only-of-type {\n",
       "        vertical-align: middle;\n",
       "    }\n",
       "\n",
       "    .dataframe tbody tr th {\n",
       "        vertical-align: top;\n",
       "    }\n",
       "\n",
       "    .dataframe thead th {\n",
       "        text-align: right;\n",
       "    }\n",
       "</style>\n",
       "<table border=\"1\" class=\"dataframe\">\n",
       "  <thead>\n",
       "    <tr style=\"text-align: right;\">\n",
       "      <th></th>\n",
       "      <th>totalprice</th>\n",
       "      <th>toilets</th>\n",
       "      <th>garage</th>\n",
       "      <th>rooms</th>\n",
       "      <th>conservation</th>\n",
       "    </tr>\n",
       "  </thead>\n",
       "  <tbody>\n",
       "    <tr>\n",
       "      <th>0</th>\n",
       "      <td>228000</td>\n",
       "      <td>1</td>\n",
       "      <td>0</td>\n",
       "      <td>5</td>\n",
       "      <td>3</td>\n",
       "    </tr>\n",
       "    <tr>\n",
       "      <th>1</th>\n",
       "      <td>409000</td>\n",
       "      <td>2</td>\n",
       "      <td>1</td>\n",
       "      <td>5</td>\n",
       "      <td>1</td>\n",
       "    </tr>\n",
       "    <tr>\n",
       "      <th>2</th>\n",
       "      <td>200000</td>\n",
       "      <td>2</td>\n",
       "      <td>0</td>\n",
       "      <td>5</td>\n",
       "      <td>1</td>\n",
       "    </tr>\n",
       "    <tr>\n",
       "      <th>3</th>\n",
       "      <td>180000</td>\n",
       "      <td>1</td>\n",
       "      <td>0</td>\n",
       "      <td>4</td>\n",
       "      <td>2</td>\n",
       "    </tr>\n",
       "    <tr>\n",
       "      <th>4</th>\n",
       "      <td>443600</td>\n",
       "      <td>2</td>\n",
       "      <td>0</td>\n",
       "      <td>7</td>\n",
       "      <td>1</td>\n",
       "    </tr>\n",
       "  </tbody>\n",
       "</table>\n",
       "</div>"
      ],
      "text/plain": [
       "   totalprice  toilets  garage  rooms  conservation\n",
       "0      228000        1       0      5             3\n",
       "1      409000        2       1      5             1\n",
       "2      200000        2       0      5             1\n",
       "3      180000        1       0      4             2\n",
       "4      443600        2       0      7             1"
      ]
     },
     "execution_count": 29,
     "metadata": {},
     "output_type": "execute_result"
    }
   ],
   "source": [
    "model=['totalprice','toilets','garage','rooms','conservation']\n",
    "pemodelan=victoria[model]\n",
    "pemodelan.head()"
   ]
  },
  {
   "cell_type": "code",
   "execution_count": 30,
   "metadata": {},
   "outputs": [],
   "source": [
    "x = pemodelan.drop(columns = ['totalprice'])\n",
    "y = pemodelan['totalprice']"
   ]
  },
  {
   "cell_type": "code",
   "execution_count": 31,
   "metadata": {},
   "outputs": [],
   "source": [
    "lin_reg = LinearRegression()\n",
    "x_train, x_test, y_train, y_test = train_test_split(x, y, test_size=0.2)"
   ]
  },
  {
   "cell_type": "markdown",
   "metadata": {},
   "source": [
    "**Model Training**\n",
    "\n",
    "Pemodelan dilakukan menggunakan data training. Selanjutnya akan dilakukan pengecekan nilai MAE (Mean Absolute Error) dan MAPE (Mean Absolute Percentage Error) dengan menggunakan data testing."
   ]
  },
  {
   "cell_type": "code",
   "execution_count": 32,
   "metadata": {},
   "outputs": [],
   "source": [
    "lin_reg.fit(x_train, y_train)\n",
    "y_pred = lin_reg.predict(x_test)"
   ]
  },
  {
   "cell_type": "code",
   "execution_count": 33,
   "metadata": {},
   "outputs": [],
   "source": [
    "def mean_absolute_percentage_error(y_true, y_pred): \n",
    "    y_true, y_pred = np.array(y_true), np.array(y_pred)\n",
    "    return np.mean(np.abs((y_true - y_pred) / y_true)) * 100"
   ]
  },
  {
   "cell_type": "code",
   "execution_count": 34,
   "metadata": {},
   "outputs": [
    {
     "name": "stdout",
     "output_type": "stream",
     "text": [
      " Nilai MAE yang dihasilkan sebesar 35573.11283451031\n",
      "Nilai MAPE yang dihasilkan sebesar 11.3704393259606\n"
     ]
    }
   ],
   "source": [
    "print(f' Nilai MAE yang dihasilkan sebesar {mean_absolute_error(y_pred, y_test)}')\n",
    "print(f'Nilai MAPE yang dihasilkan sebesar {mean_absolute_percentage_error(y_test, y_pred)}')"
   ]
  },
  {
   "cell_type": "markdown",
   "metadata": {},
   "source": [
    "Berdasarkan pemodelan total price dengan variabel toilets, garage, dan rooms diketahui dengan melakukan perhitungan akurasi didapat **error yang terbentuk sebanyak 35.573 dengan persentase sebesar 11,37%.**"
   ]
  },
  {
   "cell_type": "code",
   "execution_count": null,
   "metadata": {},
   "outputs": [],
   "source": []
  }
 ],
 "metadata": {
  "kernelspec": {
   "display_name": "Python 3",
   "language": "python",
   "name": "python3"
  },
  "language_info": {
   "codemirror_mode": {
    "name": "ipython",
    "version": 3
   },
   "file_extension": ".py",
   "mimetype": "text/x-python",
   "name": "python",
   "nbconvert_exporter": "python",
   "pygments_lexer": "ipython3",
   "version": "3.6.4"
  }
 },
 "nbformat": 4,
 "nbformat_minor": 2
}
