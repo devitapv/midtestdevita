{
 "cells": [
  {
   "cell_type": "markdown",
   "metadata": {},
   "source": [
    "## Annual Water Case"
   ]
  },
  {
   "cell_type": "markdown",
   "metadata": {},
   "source": [
    "**Deskripsi Dataset :** <br>\n",
    "Dataset yang digunakan merupakan data penggunaan air tahunan di Baltimore dari tahun 1885 hingga 1963 data. Dataset yang digunakan terdiri dari 2 variabel yakni year dan annual water use.  <br>\n",
    "\n",
    "**Deskripsi Project :** <br>\n",
    "Pada case ini akan dilakukan prediksi mengenai penggunaan air dengan menggunakan ARIMA berdasarkan rata-rata penggunaan air ditahun sebelumnya."
   ]
  },
  {
   "cell_type": "markdown",
   "metadata": {},
   "source": [
    "### **1. Import Library dan Load Dataset**"
   ]
  },
  {
   "cell_type": "code",
   "execution_count": 34,
   "metadata": {},
   "outputs": [],
   "source": [
    "import pandas as pd\n",
    "import numpy as np\n",
    "import matplotlib.pyplot as plt\n",
    "import seaborn as sns\n",
    "from sklearn.model_selection import train_test_split\n",
    "from statsmodels.tsa.arima_model import ARIMA\n",
    "from sklearn.metrics import mean_squared_error\n",
    "from pandas import DataFrame\n",
    "from pandas import Grouper\n",
    "import warnings\n",
    "warnings.filterwarnings('ignore')"
   ]
  },
  {
   "cell_type": "code",
   "execution_count": 13,
   "metadata": {},
   "outputs": [
    {
     "data": {
      "text/html": [
       "<div>\n",
       "<style scoped>\n",
       "    .dataframe tbody tr th:only-of-type {\n",
       "        vertical-align: middle;\n",
       "    }\n",
       "\n",
       "    .dataframe tbody tr th {\n",
       "        vertical-align: top;\n",
       "    }\n",
       "\n",
       "    .dataframe thead th {\n",
       "        text-align: right;\n",
       "    }\n",
       "</style>\n",
       "<table border=\"1\" class=\"dataframe\">\n",
       "  <thead>\n",
       "    <tr style=\"text-align: right;\">\n",
       "      <th></th>\n",
       "      <th>Year</th>\n",
       "      <th>Baltmore city annual water use, liters per capita per day, 1885-1968</th>\n",
       "    </tr>\n",
       "  </thead>\n",
       "  <tbody>\n",
       "    <tr>\n",
       "      <th>0</th>\n",
       "      <td>1885</td>\n",
       "      <td>356</td>\n",
       "    </tr>\n",
       "    <tr>\n",
       "      <th>1</th>\n",
       "      <td>1886</td>\n",
       "      <td>386</td>\n",
       "    </tr>\n",
       "    <tr>\n",
       "      <th>2</th>\n",
       "      <td>1887</td>\n",
       "      <td>397</td>\n",
       "    </tr>\n",
       "    <tr>\n",
       "      <th>3</th>\n",
       "      <td>1888</td>\n",
       "      <td>397</td>\n",
       "    </tr>\n",
       "    <tr>\n",
       "      <th>4</th>\n",
       "      <td>1889</td>\n",
       "      <td>413</td>\n",
       "    </tr>\n",
       "  </tbody>\n",
       "</table>\n",
       "</div>"
      ],
      "text/plain": [
       "   Year  Baltmore city annual water use, liters per capita per day, 1885-1968\n",
       "0  1885                                                356                   \n",
       "1  1886                                                386                   \n",
       "2  1887                                                397                   \n",
       "3  1888                                                397                   \n",
       "4  1889                                                413                   "
      ]
     },
     "execution_count": 13,
     "metadata": {},
     "output_type": "execute_result"
    }
   ],
   "source": [
    "AW=pd.read_csv('water (1).csv')\n",
    "AW.head()"
   ]
  },
  {
   "cell_type": "markdown",
   "metadata": {},
   "source": [
    "Setelah melakukan penginputan data, selanjutnya akan membagi data menjadi 2, yakni untuk membangun model dengan nama file dataset, dan data lainnya untuk validasi dengan nama file validation dengan proporsi pembagian 70% untuk dataset dan 30% untuk data validasi."
   ]
  },
  {
   "cell_type": "code",
   "execution_count": 14,
   "metadata": {},
   "outputs": [],
   "source": [
    "from pandas import read_csv"
   ]
  },
  {
   "cell_type": "code",
   "execution_count": 22,
   "metadata": {},
   "outputs": [
    {
     "data": {
      "text/html": [
       "<div>\n",
       "<style scoped>\n",
       "    .dataframe tbody tr th:only-of-type {\n",
       "        vertical-align: middle;\n",
       "    }\n",
       "\n",
       "    .dataframe tbody tr th {\n",
       "        vertical-align: top;\n",
       "    }\n",
       "\n",
       "    .dataframe thead th {\n",
       "        text-align: right;\n",
       "    }\n",
       "</style>\n",
       "<table border=\"1\" class=\"dataframe\">\n",
       "  <thead>\n",
       "    <tr style=\"text-align: right;\">\n",
       "      <th></th>\n",
       "      <th>Year</th>\n",
       "      <th>Baltmore city annual water use, liters per capita per day, 1885-1968</th>\n",
       "    </tr>\n",
       "  </thead>\n",
       "  <tbody>\n",
       "    <tr>\n",
       "      <th>0</th>\n",
       "      <td>1885</td>\n",
       "      <td>356</td>\n",
       "    </tr>\n",
       "    <tr>\n",
       "      <th>1</th>\n",
       "      <td>1886</td>\n",
       "      <td>386</td>\n",
       "    </tr>\n",
       "    <tr>\n",
       "      <th>2</th>\n",
       "      <td>1887</td>\n",
       "      <td>397</td>\n",
       "    </tr>\n",
       "    <tr>\n",
       "      <th>3</th>\n",
       "      <td>1888</td>\n",
       "      <td>397</td>\n",
       "    </tr>\n",
       "    <tr>\n",
       "      <th>4</th>\n",
       "      <td>1889</td>\n",
       "      <td>413</td>\n",
       "    </tr>\n",
       "  </tbody>\n",
       "</table>\n",
       "</div>"
      ],
      "text/plain": [
       "   Year  Baltmore city annual water use, liters per capita per day, 1885-1968\n",
       "0  1885                                                356                   \n",
       "1  1886                                                386                   \n",
       "2  1887                                                397                   \n",
       "3  1888                                                397                   \n",
       "4  1889                                                413                   "
      ]
     },
     "execution_count": 22,
     "metadata": {},
     "output_type": "execute_result"
    }
   ],
   "source": [
    "data1 = read_csv('water (1).csv',header=0)\n",
    "data1.head()"
   ]
  },
  {
   "cell_type": "code",
   "execution_count": 23,
   "metadata": {},
   "outputs": [
    {
     "name": "stdout",
     "output_type": "stream",
     "text": [
      "Dataset 55, Validation 24\n"
     ]
    }
   ],
   "source": [
    "split_point = int(len(AW)*0.7)\n",
    "dataset, validation = data1[0:split_point], data1[split_point:]\n",
    "print('Dataset %d, Validation %d' % (len(dataset), len(validation)))\n",
    "dataset.to_csv('dataset.csv', index=False)\n",
    "validation.to_csv('validation.csv', index=False)"
   ]
  },
  {
   "cell_type": "markdown",
   "metadata": {},
   "source": [
    "Jumlah data yang berada pada dataset sebanyak 55 data yakni sejak tahun 1885 hingga tahun 1939 dan pada validation sebanyak 24 data yakni sejak tahun 1940 hingga 1963."
   ]
  },
  {
   "cell_type": "markdown",
   "metadata": {},
   "source": [
    "### **2. Summary Dataset**"
   ]
  },
  {
   "cell_type": "markdown",
   "metadata": {},
   "source": [
    "Summary dataset digunakan untuk mengetahui karakteristik dari data. Summary berisikan ukuran pemusatan dan penyebaran data seperti rata-rata, standar deviasi, minimum, maksimum, Q1,Q2, dan Q3"
   ]
  },
  {
   "cell_type": "code",
   "execution_count": 25,
   "metadata": {},
   "outputs": [
    {
     "data": {
      "text/html": [
       "<div>\n",
       "<style scoped>\n",
       "    .dataframe tbody tr th:only-of-type {\n",
       "        vertical-align: middle;\n",
       "    }\n",
       "\n",
       "    .dataframe tbody tr th {\n",
       "        vertical-align: top;\n",
       "    }\n",
       "\n",
       "    .dataframe thead th {\n",
       "        text-align: right;\n",
       "    }\n",
       "</style>\n",
       "<table border=\"1\" class=\"dataframe\">\n",
       "  <thead>\n",
       "    <tr style=\"text-align: right;\">\n",
       "      <th></th>\n",
       "      <th>Baltmore city annual water use, liters per capita per day, 1885-1968</th>\n",
       "    </tr>\n",
       "  </thead>\n",
       "  <tbody>\n",
       "    <tr>\n",
       "      <th>count</th>\n",
       "      <td>55.000000</td>\n",
       "    </tr>\n",
       "    <tr>\n",
       "      <th>mean</th>\n",
       "      <td>476.254545</td>\n",
       "    </tr>\n",
       "    <tr>\n",
       "      <th>std</th>\n",
       "      <td>60.823429</td>\n",
       "    </tr>\n",
       "    <tr>\n",
       "      <th>min</th>\n",
       "      <td>344.000000</td>\n",
       "    </tr>\n",
       "    <tr>\n",
       "      <th>25%</th>\n",
       "      <td>452.000000</td>\n",
       "    </tr>\n",
       "    <tr>\n",
       "      <th>50%</th>\n",
       "      <td>473.000000</td>\n",
       "    </tr>\n",
       "    <tr>\n",
       "      <th>75%</th>\n",
       "      <td>503.000000</td>\n",
       "    </tr>\n",
       "    <tr>\n",
       "      <th>max</th>\n",
       "      <td>662.000000</td>\n",
       "    </tr>\n",
       "  </tbody>\n",
       "</table>\n",
       "</div>"
      ],
      "text/plain": [
       "       Baltmore city annual water use, liters per capita per day, 1885-1968\n",
       "count                                          55.000000                   \n",
       "mean                                          476.254545                   \n",
       "std                                            60.823429                   \n",
       "min                                           344.000000                   \n",
       "25%                                           452.000000                   \n",
       "50%                                           473.000000                   \n",
       "75%                                           503.000000                   \n",
       "max                                           662.000000                   "
      ]
     },
     "execution_count": 25,
     "metadata": {},
     "output_type": "execute_result"
    }
   ],
   "source": [
    "dataset=pd.read_csv('dataset.csv')\n",
    "dataset = dataset.set_index(dataset['Year'])\n",
    "dataset.drop(columns=['Year'], inplace=True)\n",
    "dataset.describe()"
   ]
  },
  {
   "cell_type": "markdown",
   "metadata": {},
   "source": [
    "### **3. Time series Plot**"
   ]
  },
  {
   "cell_type": "markdown",
   "metadata": {},
   "source": [
    "Time series plot dapat digunakan untuk mengetahui kondisi awal dari data yang akan digunakan. Apakah terdapat tren, atau membentuk pola tertentu secara visual."
   ]
  },
  {
   "cell_type": "code",
   "execution_count": 27,
   "metadata": {},
   "outputs": [],
   "source": [
    "from matplotlib.pylab import rcParams"
   ]
  },
  {
   "cell_type": "code",
   "execution_count": 33,
   "metadata": {},
   "outputs": [
    {
     "data": {
      "image/png": "[encoded data removed]",
      "text/plain": [
       "<matplotlib.figure.Figure at 0x212e5ed3080>"
      ]
     },
     "metadata": {},
     "output_type": "display_data"
    }
   ],
   "source": [
    "rcParams['figure.figsize'] = (10, 5)\n",
    "plt.xlabel('Year')\n",
    "plt.ylabel('Baltmore city annual water use, liters per capita per day, 1885-1968')\n",
    "plt.plot(dataset['Baltmore city annual water use, liters per capita per day, 1885-1968'])\n",
    "plt.show()"
   ]
  },
  {
   "cell_type": "markdown",
   "metadata": {},
   "source": [
    "- Penggunaan air dalam 79 tahun memiliki tren yang naik meskipun dibeberapa tahun terdapat penurunan.\n",
    "- Fluktuasi cenderung tinggi."
   ]
  },
  {
   "cell_type": "markdown",
   "metadata": {},
   "source": [
    "### **4. Group Annual Data by Decade**"
   ]
  },
  {
   "cell_type": "markdown",
   "metadata": {},
   "source": [
    "**Histogram**"
   ]
  },
  {
   "cell_type": "code",
   "execution_count": 35,
   "metadata": {},
   "outputs": [
    {
     "data": {
      "image/png": "[encoded data removed]",
      "text/plain": [
       "<matplotlib.figure.Figure at 0x212e62d1cc0>"
      ]
     },
     "metadata": {},
     "output_type": "display_data"
    }
   ],
   "source": [
    "rcParams['figure.figsize'] = (21, 5)\n",
    "dataset.hist()\n",
    "plt.show()"
   ]
  },
  {
   "cell_type": "markdown",
   "metadata": {},
   "source": [
    "**Density Plot**"
   ]
  },
  {
   "cell_type": "code",
   "execution_count": 36,
   "metadata": {},
   "outputs": [
    {
     "data": {
      "image/png": "[encoded data removed]",
      "text/plain": [
       "<matplotlib.figure.Figure at 0x212e5f5c588>"
      ]
     },
     "metadata": {},
     "output_type": "display_data"
    }
   ],
   "source": [
    "rcParams['figure.figsize'] = (21, 5)\n",
    "dataset.plot(kind='kde')\n",
    "plt.show()"
   ]
  },
  {
   "cell_type": "markdown",
   "metadata": {},
   "source": [
    "Dikarenakan data membentuk pola menyerupai lonceng maka diketahui data memiliki distribusi normal."
   ]
  },
  {
   "cell_type": "code",
   "execution_count": 37,
   "metadata": {},
   "outputs": [
    {
     "data": {
      "text/plain": [
       "array([1885, 1886, 1887, 1888, 1889, 1890, 1891, 1892, 1893, 1894, 1895,\n",
       "       1896, 1897, 1898, 1899, 1900, 1901, 1902, 1903, 1904, 1905, 1906,\n",
       "       1907, 1908, 1909, 1910, 1911, 1912, 1913, 1914, 1915, 1916, 1917,\n",
       "       1918, 1919, 1920, 1921, 1922, 1923, 1924, 1925, 1926, 1927, 1928,\n",
       "       1929, 1930, 1931, 1932, 1933, 1934, 1935, 1936, 1937, 1938, 1939],\n",
       "      dtype=int64)"
      ]
     },
     "execution_count": 37,
     "metadata": {},
     "output_type": "execute_result"
    }
   ],
   "source": [
    "dataset = dataset.reset_index()\n",
    "dataset['Year'].unique()"
   ]
  },
  {
   "cell_type": "code",
   "execution_count": 42,
   "metadata": {
    "scrolled": true
   },
   "outputs": [
    {
     "data": {
      "image/png": "[encoded data removed]",
      "text/plain": [
       "<matplotlib.figure.Figure at 0x212e6807fd0>"
      ]
     },
     "metadata": {},
     "output_type": "display_data"
    }
   ],
   "source": [
    "# NEAREST 10 FOR DECADE START\n",
    "dataset['decade_start'] = (dataset['Year'] // 10) * 10 + 5\n",
    "dataset.loc[(dataset['Year'] % 10) == 0, 'decade_start'] = dataset['decade_start'] - 10\n",
    "dataset['decade_range'] = dataset['decade_start'].astype('str') + ' - ' + \\\n",
    "                     (dataset['decade_start'] + 9).astype('str') \n",
    "plt.figure(figsize=(15,5))\n",
    "sns.boxplot(x=\"decade_range\", y=\"Baltmore city annual water use, liters per capita per day, 1885-1968\", data=dataset, color = 'navy')   \n",
    "\n",
    "plt.show()\n",
    "plt.clf()\n",
    "plt.close()"
   ]
  },
  {
   "cell_type": "markdown",
   "metadata": {},
   "source": [
    "Jumlah data yang ada pada dataset sebanyak 55 data dan akan dibagi menjadi enam dekade sehingga range tahun dari masing-masing dekade adalah sebanyak 10 tahun. <br>\n",
    "- Nilai median untuk setiap dekade menunjukkan trend meningkat.\n",
    "- terindikasi adanya outlier pada beberapa data kapasitas pengguna air (dekade 1 dan 6)"
   ]
  },
  {
   "cell_type": "markdown",
   "metadata": {},
   "source": [
    "### **5. Modelling Using ARIMA**"
   ]
  },
  {
   "cell_type": "code",
   "execution_count": 43,
   "metadata": {},
   "outputs": [],
   "source": [
    "from statsmodels.tsa.stattools import adfuller\n",
    "from matplotlib import pyplot\n",
    "from sklearn.model_selection import train_test_split\n",
    "from statsmodels.tsa.arima_model import ARIMA\n",
    "from sklearn.metrics import mean_squared_error"
   ]
  },
  {
   "cell_type": "code",
   "execution_count": 44,
   "metadata": {},
   "outputs": [],
   "source": [
    "dataset = read_csv('dataset.csv')\n",
    "dataset['Year'] = pd.to_datetime(dataset['Year'], format='%Y')\n",
    "dataset = dataset.set_index(dataset['Year'])\n",
    "dataset.drop(columns=['Year'], inplace=True)\n",
    "dataset = dataset.astype('float64')"
   ]
  },
  {
   "cell_type": "markdown",
   "metadata": {},
   "source": [
    "**Split data menjadi data training dan testing dengan proporsi 50% : 50%**"
   ]
  },
  {
   "cell_type": "code",
   "execution_count": 45,
   "metadata": {},
   "outputs": [
    {
     "name": "stdout",
     "output_type": "stream",
     "text": [
      "(27, 1)\n",
      "(28, 1)\n"
     ]
    }
   ],
   "source": [
    "train_size = int(len(dataset)*0.5)\n",
    "train = dataset[0:train_size]\n",
    "test = dataset[train_size:]\n",
    "print(train.shape)\n",
    "print(test.shape)"
   ]
  },
  {
   "cell_type": "markdown",
   "metadata": {},
   "source": [
    "Pada data training terdapat 27 data dan untuk data testing terdapat 28 data."
   ]
  },
  {
   "cell_type": "markdown",
   "metadata": {},
   "source": [
    "Langkah pertama adalah melakuka pemodelan dengan parameter ARIMA (0,1,0)"
   ]
  },
  {
   "cell_type": "code",
   "execution_count": 58,
   "metadata": {
    "scrolled": true
   },
   "outputs": [
    {
     "ename": "IndexError",
     "evalue": "list index out of range",
     "output_type": "error",
     "traceback": [
      "\u001b[1;31m---------------------------------------------------------------------------\u001b[0m",
      "\u001b[1;31mIndexError\u001b[0m                                Traceback (most recent call last)",
      "\u001b[1;32m<ipython-input-58-c9810c0091dd>\u001b[0m in \u001b[0;36m<module>\u001b[1;34m()\u001b[0m\n\u001b[0;32m      1\u001b[0m \u001b[0mmodel\u001b[0m \u001b[1;33m=\u001b[0m \u001b[0mARIMA\u001b[0m\u001b[1;33m(\u001b[0m\u001b[0mtrain\u001b[0m\u001b[1;33m,\u001b[0m \u001b[0morder\u001b[0m\u001b[1;33m=\u001b[0m\u001b[1;33m(\u001b[0m\u001b[1;36m0\u001b[0m\u001b[1;33m,\u001b[0m\u001b[1;36m1\u001b[0m\u001b[1;33m,\u001b[0m\u001b[1;36m0\u001b[0m\u001b[1;33m)\u001b[0m\u001b[1;33m)\u001b[0m\u001b[1;33m\u001b[0m\u001b[0m\n\u001b[0;32m      2\u001b[0m \u001b[0mmodel_fit\u001b[0m \u001b[1;33m=\u001b[0m \u001b[0mmodel\u001b[0m\u001b[1;33m.\u001b[0m\u001b[0mfit\u001b[0m\u001b[1;33m(\u001b[0m\u001b[0mdisp\u001b[0m\u001b[1;33m=\u001b[0m\u001b[1;36m0\u001b[0m\u001b[1;33m)\u001b[0m\u001b[1;33m\u001b[0m\u001b[0m\n\u001b[1;32m----> 3\u001b[1;33m \u001b[0mprint\u001b[0m\u001b[1;33m(\u001b[0m\u001b[0mmodel_fit\u001b[0m\u001b[1;33m.\u001b[0m\u001b[0msummary\u001b[0m\u001b[1;33m(\u001b[0m\u001b[1;33m)\u001b[0m\u001b[1;33m)\u001b[0m\u001b[1;33m\u001b[0m\u001b[0m\n\u001b[0m",
      "\u001b[1;32mC:\\ProgramData\\Anaconda3\\lib\\site-packages\\statsmodels\\tsa\\arima_model.py\u001b[0m in \u001b[0;36msummary\u001b[1;34m(self, alpha)\u001b[0m\n\u001b[0;32m   1622\u001b[0m         smry.add_table_2cols(self, gleft=top_left, gright=top_right,\n\u001b[0;32m   1623\u001b[0m                              title=title)\n\u001b[1;32m-> 1624\u001b[1;33m         \u001b[0msmry\u001b[0m\u001b[1;33m.\u001b[0m\u001b[0madd_table_params\u001b[0m\u001b[1;33m(\u001b[0m\u001b[0mself\u001b[0m\u001b[1;33m,\u001b[0m \u001b[0malpha\u001b[0m\u001b[1;33m=\u001b[0m\u001b[0malpha\u001b[0m\u001b[1;33m,\u001b[0m \u001b[0muse_t\u001b[0m\u001b[1;33m=\u001b[0m\u001b[1;32mFalse\u001b[0m\u001b[1;33m)\u001b[0m\u001b[1;33m\u001b[0m\u001b[0m\n\u001b[0m\u001b[0;32m   1625\u001b[0m \u001b[1;33m\u001b[0m\u001b[0m\n\u001b[0;32m   1626\u001b[0m         \u001b[1;31m# Make the roots table\u001b[0m\u001b[1;33m\u001b[0m\u001b[1;33m\u001b[0m\u001b[0m\n",
      "\u001b[1;32mC:\\ProgramData\\Anaconda3\\lib\\site-packages\\statsmodels\\iolib\\summary.py\u001b[0m in \u001b[0;36madd_table_params\u001b[1;34m(self, res, yname, xname, alpha, use_t)\u001b[0m\n\u001b[0;32m    859\u001b[0m         \u001b[1;32mif\u001b[0m \u001b[0mres\u001b[0m\u001b[1;33m.\u001b[0m\u001b[0mparams\u001b[0m\u001b[1;33m.\u001b[0m\u001b[0mndim\u001b[0m \u001b[1;33m==\u001b[0m \u001b[1;36m1\u001b[0m\u001b[1;33m:\u001b[0m\u001b[1;33m\u001b[0m\u001b[0m\n\u001b[0;32m    860\u001b[0m             table = summary_params(res, yname=yname, xname=xname, alpha=alpha,\n\u001b[1;32m--> 861\u001b[1;33m                                    use_t=use_t)\n\u001b[0m\u001b[0;32m    862\u001b[0m         \u001b[1;32melif\u001b[0m \u001b[0mres\u001b[0m\u001b[1;33m.\u001b[0m\u001b[0mparams\u001b[0m\u001b[1;33m.\u001b[0m\u001b[0mndim\u001b[0m \u001b[1;33m==\u001b[0m \u001b[1;36m2\u001b[0m\u001b[1;33m:\u001b[0m\u001b[1;33m\u001b[0m\u001b[0m\n\u001b[0;32m    863\u001b[0m \u001b[1;31m#            _, table = summary_params_2dflat(res, yname=yname, xname=xname,\u001b[0m\u001b[1;33m\u001b[0m\u001b[1;33m\u001b[0m\u001b[0m\n",
      "\u001b[1;32mC:\\ProgramData\\Anaconda3\\lib\\site-packages\\statsmodels\\iolib\\summary.py\u001b[0m in \u001b[0;36msummary_params\u001b[1;34m(results, yname, xname, alpha, use_t, skip_header, title)\u001b[0m\n\u001b[0;32m    479\u001b[0m                                   \u001b[0mparams_stubs\u001b[0m\u001b[1;33m,\u001b[0m\u001b[1;33m\u001b[0m\u001b[0m\n\u001b[0;32m    480\u001b[0m                                   \u001b[0mtitle\u001b[0m \u001b[1;33m=\u001b[0m \u001b[0mtitle\u001b[0m\u001b[1;33m,\u001b[0m\u001b[1;33m\u001b[0m\u001b[0m\n\u001b[1;32m--> 481\u001b[1;33m                                   \u001b[0mtxt_fmt\u001b[0m \u001b[1;33m=\u001b[0m \u001b[0mfmt_params\u001b[0m \u001b[1;31m#gen_fmt #fmt_2, #gen_fmt,\u001b[0m\u001b[1;33m\u001b[0m\u001b[0m\n\u001b[0m\u001b[0;32m    482\u001b[0m                                   )\n\u001b[0;32m    483\u001b[0m \u001b[1;33m\u001b[0m\u001b[0m\n",
      "\u001b[1;32mC:\\ProgramData\\Anaconda3\\lib\\site-packages\\statsmodels\\iolib\\table.py\u001b[0m in \u001b[0;36m__init__\u001b[1;34m(self, data, headers, stubs, title, datatypes, csv_fmt, txt_fmt, ltx_fmt, html_fmt, celltype, rowtype, **fmt_dict)\u001b[0m\n\u001b[0;32m    184\u001b[0m         \"\"\"\n\u001b[0;32m    185\u001b[0m         \u001b[0mself\u001b[0m\u001b[1;33m.\u001b[0m\u001b[0mtitle\u001b[0m \u001b[1;33m=\u001b[0m \u001b[0mtitle\u001b[0m\u001b[1;33m\u001b[0m\u001b[0m\n\u001b[1;32m--> 186\u001b[1;33m         \u001b[0mself\u001b[0m\u001b[1;33m.\u001b[0m\u001b[0m_datatypes\u001b[0m \u001b[1;33m=\u001b[0m \u001b[0mdatatypes\u001b[0m \u001b[1;32mor\u001b[0m \u001b[0mlrange\u001b[0m\u001b[1;33m(\u001b[0m\u001b[0mlen\u001b[0m\u001b[1;33m(\u001b[0m\u001b[0mdata\u001b[0m\u001b[1;33m[\u001b[0m\u001b[1;36m0\u001b[0m\u001b[1;33m]\u001b[0m\u001b[1;33m)\u001b[0m\u001b[1;33m)\u001b[0m\u001b[1;33m\u001b[0m\u001b[0m\n\u001b[0m\u001b[0;32m    187\u001b[0m         \u001b[1;31m# start with default formatting\u001b[0m\u001b[1;33m\u001b[0m\u001b[1;33m\u001b[0m\u001b[0m\n\u001b[0;32m    188\u001b[0m         \u001b[0mself\u001b[0m\u001b[1;33m.\u001b[0m\u001b[0m_txt_fmt\u001b[0m \u001b[1;33m=\u001b[0m \u001b[0mdefault_txt_fmt\u001b[0m\u001b[1;33m.\u001b[0m\u001b[0mcopy\u001b[0m\u001b[1;33m(\u001b[0m\u001b[1;33m)\u001b[0m\u001b[1;33m\u001b[0m\u001b[0m\n",
      "\u001b[1;31mIndexError\u001b[0m: list index out of range"
     ]
    }
   ],
   "source": [
    "model = ARIMA(train, order=(0,1,0))\n",
    "model_fit = model.fit(disp=0)\n",
    "print(model_fit.summary())"
   ]
  },
  {
   "cell_type": "markdown",
   "metadata": {},
   "source": [
    "Pemodelan dengan ARIMA (0,1,0) menghasilkan output eror sehingga perlu dilakukan penghitungan parameter ARIMA (p,d,q)"
   ]
  },
  {
   "cell_type": "markdown",
   "metadata": {},
   "source": [
    "Langkah yang dapat dilakukan untuk mengetahui parameter p,d,q pada ARIMA, maka dapat dilihat melalui plot ACF dan PACF. Namun sebelum mencari plot ACF dan PACF maka perlu dilakukan pengujian stasioneritas terhadap data."
   ]
  },
  {
   "cell_type": "markdown",
   "metadata": {},
   "source": [
    "**Uji Stasioner**"
   ]
  },
  {
   "cell_type": "code",
   "execution_count": 49,
   "metadata": {},
   "outputs": [
    {
     "name": "stdout",
     "output_type": "stream",
     "text": [
      "            Baltmore city annual water use, liters per capita per day, 1885-1968\n",
      "Year                                                                            \n",
      "1885-01-01                                                NaN                   \n",
      "1886-01-01                                                NaN                   \n",
      "1887-01-01                                                NaN                   \n",
      "1888-01-01                                                NaN                   \n",
      "1889-01-01                                                NaN                   \n",
      "1890-01-01                                                NaN                   \n",
      "1891-01-01                                                NaN                   \n",
      "1892-01-01                                                NaN                   \n",
      "1893-01-01                                                NaN                   \n",
      "1894-01-01                                                NaN                   \n",
      "1895-01-01                                                NaN                   \n",
      "1896-01-01                                         403.416667                   \n",
      "1897-01-01                                         410.333333                   \n",
      "1898-01-01                                         416.000000                   \n",
      "1899-01-01                                         421.416667                   \n",
      "1900-01-01                                         426.166667                   \n",
      "1901-01-01                                         430.833333                   \n",
      "1902-01-01                                         434.333333                   \n",
      "1903-01-01                                         434.916667                   \n",
      "1904-01-01                                         445.666667                   \n",
      "1905-01-01                                         451.333333                   \n",
      "1906-01-01                                         460.416667                   \n",
      "1907-01-01                                         465.500000                   \n",
      "1908-01-01                                         469.916667                   \n",
      "1909-01-01                                         472.166667                   \n",
      "1910-01-01                                         472.833333                   \n",
      "1911-01-01                                         473.750000                                Baltmore city annual water use, liters per capita per day, 1885-1968\n",
      "Year                                                                            \n",
      "1885-01-01                                                NaN                   \n",
      "1886-01-01                                                NaN                   \n",
      "1887-01-01                                                NaN                   \n",
      "1888-01-01                                                NaN                   \n",
      "1889-01-01                                                NaN                   \n",
      "1890-01-01                                                NaN                   \n",
      "1891-01-01                                                NaN                   \n",
      "1892-01-01                                                NaN                   \n",
      "1893-01-01                                                NaN                   \n",
      "1894-01-01                                                NaN                   \n",
      "1895-01-01                                                NaN                   \n",
      "1896-01-01                                          41.810087                   \n",
      "1897-01-01                                          40.082491                   \n",
      "1898-01-01                                          41.122876                   \n",
      "1899-01-01                                          42.645384                   \n",
      "1900-01-01                                          42.852460                   \n",
      "1901-01-01                                          44.312595                   \n",
      "1902-01-01                                          48.146242                   \n",
      "1903-01-01                                          48.853135                   \n",
      "1904-01-01                                          40.508884                   \n",
      "1905-01-01                                          36.579511                   \n",
      "1906-01-01                                          22.761444                   \n",
      "1907-01-01                                          19.491257                   \n",
      "1908-01-01                                          17.890873                   \n",
      "1909-01-01                                          15.134748                   \n",
      "1910-01-01                                          14.421154                   \n",
      "1911-01-01                                          14.013792                   \n"
     ]
    }
   ],
   "source": [
    "rolmean = pd.rolling_mean(train, window=12)\n",
    "rolstd = pd.rolling_std(train, window=12)\n",
    "print(rolmean, rolstd)"
   ]
  },
  {
   "cell_type": "code",
   "execution_count": 50,
   "metadata": {
    "scrolled": true
   },
   "outputs": [
    {
     "data": {
      "image/png": "[encoded data removed]",
      "text/plain": [
       "<matplotlib.figure.Figure at 0x212e6045a20>"
      ]
     },
     "metadata": {},
     "output_type": "display_data"
    }
   ],
   "source": [
    "plt.figure(figsize=(15,5))\n",
    "orig = plt.plot(train, color='darksalmon',label='Original')\n",
    "mean = plt.plot(rolmean, color='blue', label='Rolling Mean')\n",
    "std = plt.plot(rolstd, color='orangered', label='Rolling Std')\n",
    "plt.legend(loc='best')\n",
    "plt.title('Rolling Mean & Standard Deviation')\n",
    "plt.show(block=False)"
   ]
  },
  {
   "cell_type": "markdown",
   "metadata": {},
   "source": [
    "Dari plot tersebur diketahui bahwa data telah stasioner dalam mean, namun belum stasioner dalam ragam sehingga dilakukan uji Dicky-Fuller dengan hipotesis : <br>\n",
    "H0 : Data tidak stasioner <br>\n",
    "H1 : Data stasioner"
   ]
  },
  {
   "cell_type": "code",
   "execution_count": 55,
   "metadata": {},
   "outputs": [
    {
     "name": "stdout",
     "output_type": "stream",
     "text": [
      "Statistik Uji Dickey-Fuller Test:\n",
      "Test Statistic                 -2.689200\n",
      "p-value                         0.075926\n",
      "Lags Used                       0.000000\n",
      "Number of Observations Used    26.000000\n",
      "Critical Value (1%)            -3.711212\n",
      "Critical Value (5%)            -2.981247\n",
      "Critical Value (10%)           -2.630095\n",
      "dtype: float64\n"
     ]
    }
   ],
   "source": [
    "from statsmodels.tsa.stattools import adfuller\n",
    "print ('Statistik Uji Dickey-Fuller Test:')\n",
    "dftest = adfuller(train['Baltmore city annual water use, liters per capita per day, 1885-1968'], autolag='AIC')\n",
    "dfoutput = pd.Series(dftest[0:4], index=['Test Statistic','p-value','Lags Used','Number of Observations Used'])\n",
    "for key,value in dftest[4].items():\n",
    "  dfoutput['Critical Value (%s)' %key] = value\n",
    "  \n",
    "print(dfoutput)"
   ]
  },
  {
   "cell_type": "markdown",
   "metadata": {},
   "source": [
    "Diketahui bahwa dengan melakukan pengujian Dicky Fuller, menghasilkan p-value sebesar 0,07 dimana nilai tersebut lebih besar daripada 0,05. <br>\n",
    "Keputusan : Gagal Tolak H0 <br>\n",
    "Kesimpulan : Data tidak stasioner"
   ]
  },
  {
   "cell_type": "markdown",
   "metadata": {},
   "source": [
    "**Plot ACF dan PACF**"
   ]
  },
  {
   "cell_type": "markdown",
   "metadata": {},
   "source": [
    "Plot ACF dan PACF digunakan untuk mengetahui parameter pada (p,q)"
   ]
  },
  {
   "cell_type": "code",
   "execution_count": 47,
   "metadata": {},
   "outputs": [],
   "source": [
    "from statsmodels.graphics.tsaplots import plot_acf\n",
    "from statsmodels.graphics.tsaplots import plot_pacf"
   ]
  },
  {
   "cell_type": "code",
   "execution_count": 48,
   "metadata": {},
   "outputs": [
    {
     "data": {
      "image/png": "[encoded data removed]",
      "text/plain": [
       "<matplotlib.figure.Figure at 0x212e680f7b8>"
      ]
     },
     "metadata": {},
     "output_type": "display_data"
    }
   ],
   "source": [
    "pyplot.figure()\n",
    "pyplot.subplot(121)\n",
    "plot_acf(train, ax=pyplot.gca(), lags = 15)\n",
    "pyplot.subplot(122)\n",
    "plot_pacf(train, ax=pyplot.gca(), lags = 15)\n",
    "pyplot.show()"
   ]
  },
  {
   "cell_type": "markdown",
   "metadata": {},
   "source": [
    "Dari plot ACF dan PACF dapat diketahui bahwa data tidak memiliki pola seasonal. Pada pola PACF diketahui data keluar pada lag ke 1 sehingga parameter p adalah 1. <br>\n",
    "Sehingga model yang dapat terbentuk : <br>\n",
    "**ARIMA(0,1,1)**"
   ]
  },
  {
   "cell_type": "code",
   "execution_count": 56,
   "metadata": {},
   "outputs": [
    {
     "name": "stdout",
     "output_type": "stream",
     "text": [
      "                                                       ARIMA Model Results                                                        \n",
      "==================================================================================================================================\n",
      "Dep. Variable:     D.Baltmore city annual water use, liters per capita per day, 1885-1968   No. Observations:                   26\n",
      "Model:                                                                     ARIMA(0, 1, 1)   Log Likelihood                -127.663\n",
      "Method:                                                                           css-mle   S.D. of innovations             30.810\n",
      "Date:                                                                    Thu, 10 Oct 2019   AIC                            261.327\n",
      "Time:                                                                            17:49:37   BIC                            265.101\n",
      "Sample:                                                                        01-01-1886   HQIC                           262.414\n",
      "                                                                             - 01-01-1911                                         \n",
      "================================================================================================================================================\n",
      "                                                                                   coef    std err          z      P>|z|      [0.025      0.975]\n",
      "------------------------------------------------------------------------------------------------------------------------------------------------\n",
      "const                                                                            4.0690      0.761      5.345      0.000       2.577       5.561\n",
      "ma.L1.D.Baltmore city annual water use, liters per capita per day, 1885-1968    -1.0000      0.142     -7.024      0.000      -1.279      -0.721\n",
      "                                    Roots                                    \n",
      "=============================================================================\n",
      "                 Real           Imaginary           Modulus         Frequency\n",
      "-----------------------------------------------------------------------------\n",
      "MA.1            1.0000           +0.0000j            1.0000            0.0000\n",
      "-----------------------------------------------------------------------------\n"
     ]
    }
   ],
   "source": [
    "model1 = ARIMA(train, order=(0,1,1))\n",
    "model_fit = model1.fit(disp=0)\n",
    "print(model_fit.summary())"
   ]
  },
  {
   "cell_type": "markdown",
   "metadata": {},
   "source": [
    "Diketahui bahwa p-value yang dihasilkan 0,000 sehingga diketahui bahwa **parameter telah signifikan.**"
   ]
  },
  {
   "cell_type": "code",
   "execution_count": 60,
   "metadata": {},
   "outputs": [
    {
     "data": {
      "text/html": [
       "<div>\n",
       "<style scoped>\n",
       "    .dataframe tbody tr th:only-of-type {\n",
       "        vertical-align: middle;\n",
       "    }\n",
       "\n",
       "    .dataframe tbody tr th {\n",
       "        vertical-align: top;\n",
       "    }\n",
       "\n",
       "    .dataframe thead th {\n",
       "        text-align: right;\n",
       "    }\n",
       "</style>\n",
       "<table border=\"1\" class=\"dataframe\">\n",
       "  <thead>\n",
       "    <tr style=\"text-align: right;\">\n",
       "      <th></th>\n",
       "      <th>prediksi</th>\n",
       "      <th>aktual</th>\n",
       "    </tr>\n",
       "    <tr>\n",
       "      <th>Year</th>\n",
       "      <th></th>\n",
       "      <th></th>\n",
       "    </tr>\n",
       "  </thead>\n",
       "  <tbody>\n",
       "    <tr>\n",
       "      <th>1912-01-01</th>\n",
       "      <td>477.5</td>\n",
       "      <td>530.0</td>\n",
       "    </tr>\n",
       "    <tr>\n",
       "      <th>1913-01-01</th>\n",
       "      <td>482.0</td>\n",
       "      <td>662.0</td>\n",
       "    </tr>\n",
       "    <tr>\n",
       "      <th>1914-01-01</th>\n",
       "      <td>486.5</td>\n",
       "      <td>651.0</td>\n",
       "    </tr>\n",
       "    <tr>\n",
       "      <th>1915-01-01</th>\n",
       "      <td>491.0</td>\n",
       "      <td>587.0</td>\n",
       "    </tr>\n",
       "    <tr>\n",
       "      <th>1916-01-01</th>\n",
       "      <td>495.5</td>\n",
       "      <td>515.0</td>\n",
       "    </tr>\n",
       "    <tr>\n",
       "      <th>1917-01-01</th>\n",
       "      <td>500.0</td>\n",
       "      <td>526.0</td>\n",
       "    </tr>\n",
       "    <tr>\n",
       "      <th>1918-01-01</th>\n",
       "      <td>504.5</td>\n",
       "      <td>503.0</td>\n",
       "    </tr>\n",
       "    <tr>\n",
       "      <th>1919-01-01</th>\n",
       "      <td>509.0</td>\n",
       "      <td>503.0</td>\n",
       "    </tr>\n",
       "    <tr>\n",
       "      <th>1920-01-01</th>\n",
       "      <td>513.5</td>\n",
       "      <td>503.0</td>\n",
       "    </tr>\n",
       "    <tr>\n",
       "      <th>1921-01-01</th>\n",
       "      <td>518.0</td>\n",
       "      <td>515.0</td>\n",
       "    </tr>\n",
       "    <tr>\n",
       "      <th>1922-01-01</th>\n",
       "      <td>522.5</td>\n",
       "      <td>522.0</td>\n",
       "    </tr>\n",
       "    <tr>\n",
       "      <th>1923-01-01</th>\n",
       "      <td>527.0</td>\n",
       "      <td>492.0</td>\n",
       "    </tr>\n",
       "    <tr>\n",
       "      <th>1924-01-01</th>\n",
       "      <td>531.5</td>\n",
       "      <td>503.0</td>\n",
       "    </tr>\n",
       "    <tr>\n",
       "      <th>1925-01-01</th>\n",
       "      <td>536.0</td>\n",
       "      <td>503.0</td>\n",
       "    </tr>\n",
       "    <tr>\n",
       "      <th>1926-01-01</th>\n",
       "      <td>540.5</td>\n",
       "      <td>450.0</td>\n",
       "    </tr>\n",
       "    <tr>\n",
       "      <th>1927-01-01</th>\n",
       "      <td>545.0</td>\n",
       "      <td>432.0</td>\n",
       "    </tr>\n",
       "    <tr>\n",
       "      <th>1928-01-01</th>\n",
       "      <td>549.5</td>\n",
       "      <td>432.0</td>\n",
       "    </tr>\n",
       "    <tr>\n",
       "      <th>1929-01-01</th>\n",
       "      <td>554.0</td>\n",
       "      <td>458.0</td>\n",
       "    </tr>\n",
       "    <tr>\n",
       "      <th>1930-01-01</th>\n",
       "      <td>558.5</td>\n",
       "      <td>462.0</td>\n",
       "    </tr>\n",
       "    <tr>\n",
       "      <th>1931-01-01</th>\n",
       "      <td>563.0</td>\n",
       "      <td>503.0</td>\n",
       "    </tr>\n",
       "    <tr>\n",
       "      <th>1932-01-01</th>\n",
       "      <td>567.5</td>\n",
       "      <td>488.0</td>\n",
       "    </tr>\n",
       "    <tr>\n",
       "      <th>1933-01-01</th>\n",
       "      <td>572.0</td>\n",
       "      <td>466.0</td>\n",
       "    </tr>\n",
       "    <tr>\n",
       "      <th>1934-01-01</th>\n",
       "      <td>576.5</td>\n",
       "      <td>492.0</td>\n",
       "    </tr>\n",
       "    <tr>\n",
       "      <th>1935-01-01</th>\n",
       "      <td>581.0</td>\n",
       "      <td>503.0</td>\n",
       "    </tr>\n",
       "    <tr>\n",
       "      <th>1936-01-01</th>\n",
       "      <td>585.5</td>\n",
       "      <td>515.0</td>\n",
       "    </tr>\n",
       "    <tr>\n",
       "      <th>1937-01-01</th>\n",
       "      <td>590.0</td>\n",
       "      <td>500.0</td>\n",
       "    </tr>\n",
       "    <tr>\n",
       "      <th>1938-01-01</th>\n",
       "      <td>594.5</td>\n",
       "      <td>522.0</td>\n",
       "    </tr>\n",
       "    <tr>\n",
       "      <th>1939-01-01</th>\n",
       "      <td>599.0</td>\n",
       "      <td>575.0</td>\n",
       "    </tr>\n",
       "  </tbody>\n",
       "</table>\n",
       "</div>"
      ],
      "text/plain": [
       "            prediksi  aktual\n",
       "Year                        \n",
       "1912-01-01     477.5   530.0\n",
       "1913-01-01     482.0   662.0\n",
       "1914-01-01     486.5   651.0\n",
       "1915-01-01     491.0   587.0\n",
       "1916-01-01     495.5   515.0\n",
       "1917-01-01     500.0   526.0\n",
       "1918-01-01     504.5   503.0\n",
       "1919-01-01     509.0   503.0\n",
       "1920-01-01     513.5   503.0\n",
       "1921-01-01     518.0   515.0\n",
       "1922-01-01     522.5   522.0\n",
       "1923-01-01     527.0   492.0\n",
       "1924-01-01     531.5   503.0\n",
       "1925-01-01     536.0   503.0\n",
       "1926-01-01     540.5   450.0\n",
       "1927-01-01     545.0   432.0\n",
       "1928-01-01     549.5   432.0\n",
       "1929-01-01     554.0   458.0\n",
       "1930-01-01     558.5   462.0\n",
       "1931-01-01     563.0   503.0\n",
       "1932-01-01     567.5   488.0\n",
       "1933-01-01     572.0   466.0\n",
       "1934-01-01     576.5   492.0\n",
       "1935-01-01     581.0   503.0\n",
       "1936-01-01     585.5   515.0\n",
       "1937-01-01     590.0   500.0\n",
       "1938-01-01     594.5   522.0\n",
       "1939-01-01     599.0   575.0"
      ]
     },
     "execution_count": 60,
     "metadata": {},
     "output_type": "execute_result"
    }
   ],
   "source": [
    "y_pred = model_fit.forecast(len(test))[0]\n",
    "df_test = pd.DataFrame(y_pred, columns=['prediksi'], index=test.index)\n",
    "df_test['aktual'] = test.values\n",
    "df_test"
   ]
  },
  {
   "cell_type": "markdown",
   "metadata": {},
   "source": [
    "**Plot prediksi vs aktual**"
   ]
  },
  {
   "cell_type": "code",
   "execution_count": 63,
   "metadata": {},
   "outputs": [
    {
     "data": {
      "text/plain": [
       "80.6999513188028"
      ]
     },
     "execution_count": 63,
     "metadata": {},
     "output_type": "execute_result"
    }
   ],
   "source": [
    "mse = mean_squared_error(df_test['aktual'], df_test['prediksi'])\n",
    "rmse = np.sqrt(mse)\n",
    "rmse"
   ]
  },
  {
   "cell_type": "markdown",
   "metadata": {},
   "source": [
    "Diketahui RMSE dari prediksi yang terbentuk adalah 80,69. Nilai RMSE yang masih tinggi disebabkan karena pembagian data training dan data testing yang sama. Seharusnya data training yang digunakan memiliki proporsi lebih besar dibandingkan dengan data testing. Sehingga menyebabkan nilai prediksi belum mendekati nilai aktual."
   ]
  },
  {
   "cell_type": "code",
   "execution_count": null,
   "metadata": {},
   "outputs": [],
   "source": []
  }
 ],
 "metadata": {
  "kernelspec": {
   "display_name": "Python 3",
   "language": "python",
   "name": "python3"
  },
  "language_info": {
   "codemirror_mode": {
    "name": "ipython",
    "version": 3
   },
   "file_extension": ".py",
   "mimetype": "text/x-python",
   "name": "python",
   "nbconvert_exporter": "python",
   "pygments_lexer": "ipython3",
   "version": "3.6.4"
  }
 },
 "nbformat": 4,
 "nbformat_minor": 2
}
